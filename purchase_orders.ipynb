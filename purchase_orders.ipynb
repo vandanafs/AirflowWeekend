{
 "cells": [
  {
   "cell_type": "code",
   "execution_count": 564,
   "id": "268af959",
   "metadata": {},
   "outputs": [
    {
     "ename": "ModuleNotFoundError",
     "evalue": "No module named 'matplotlib.marker'",
     "output_type": "error",
     "traceback": [
      "\u001b[0;31m---------------------------------------------------------------------------\u001b[0m",
      "\u001b[0;31mModuleNotFoundError\u001b[0m                       Traceback (most recent call last)",
      "Input \u001b[0;32mIn [564]\u001b[0m, in \u001b[0;36m<cell line: 4>\u001b[0;34m()\u001b[0m\n\u001b[1;32m      2\u001b[0m \u001b[38;5;28;01mimport\u001b[39;00m \u001b[38;5;21;01mmatplotlib\u001b[39;00m\u001b[38;5;21;01m.\u001b[39;00m\u001b[38;5;21;01mpyplot\u001b[39;00m \u001b[38;5;28;01mas\u001b[39;00m \u001b[38;5;21;01mplt\u001b[39;00m\n\u001b[1;32m      3\u001b[0m \u001b[38;5;28;01mimport\u001b[39;00m \u001b[38;5;21;01mmatplotlib\u001b[39;00m\u001b[38;5;21;01m.\u001b[39;00m\u001b[38;5;21;01mticker\u001b[39;00m \u001b[38;5;28;01mas\u001b[39;00m \u001b[38;5;21;01mticker\u001b[39;00m\n\u001b[0;32m----> 4\u001b[0m \u001b[38;5;28;01mimport\u001b[39;00m \u001b[38;5;21;01mmatplotlib\u001b[39;00m\u001b[38;5;21;01m.\u001b[39;00m\u001b[38;5;21;01mmarker\u001b[39;00m \u001b[38;5;28;01mas\u001b[39;00m \u001b[38;5;21;01mmarker\u001b[39;00m\n\u001b[1;32m      5\u001b[0m \u001b[38;5;28;01mimport\u001b[39;00m \u001b[38;5;21;01mnumpy\u001b[39;00m \u001b[38;5;28;01mas\u001b[39;00m \u001b[38;5;21;01mny\u001b[39;00m\n",
      "\u001b[0;31mModuleNotFoundError\u001b[0m: No module named 'matplotlib.marker'"
     ]
    }
   ],
   "source": [
    "import pandas as pd\n",
    "import matplotlib.pyplot as plt\n",
    "import matplotlib.ticker as ticker\n",
    "import matplotlib.marker as marker\n",
    "import numpy as ny"
   ]
  },
  {
   "cell_type": "markdown",
   "id": "3093c600",
   "metadata": {},
   "source": [
    "# 1.Data Processing /Cleaning "
   ]
  },
  {
   "cell_type": "code",
   "execution_count": 417,
   "id": "410c6156",
   "metadata": {},
   "outputs": [],
   "source": [
    "po_df = pd.read_csv(('data/po.csv'),parse_dates=['Order Date', 'Shipment Date'])"
   ]
  },
  {
   "cell_type": "code",
   "execution_count": 418,
   "id": "a78a95d1",
   "metadata": {},
   "outputs": [
    {
     "data": {
      "text/html": [
       "<div>\n",
       "<style scoped>\n",
       "    .dataframe tbody tr th:only-of-type {\n",
       "        vertical-align: middle;\n",
       "    }\n",
       "\n",
       "    .dataframe tbody tr th {\n",
       "        vertical-align: top;\n",
       "    }\n",
       "\n",
       "    .dataframe thead th {\n",
       "        text-align: right;\n",
       "    }\n",
       "</style>\n",
       "<table border=\"1\" class=\"dataframe\">\n",
       "  <thead>\n",
       "    <tr style=\"text-align: right;\">\n",
       "      <th></th>\n",
       "      <th>Order Date</th>\n",
       "      <th>Order ID</th>\n",
       "      <th>Website</th>\n",
       "      <th>Purchase Order Number</th>\n",
       "      <th>Shipment Date</th>\n",
       "      <th>Shipping Address City</th>\n",
       "      <th>Shipping Address State</th>\n",
       "      <th>Shipping Address Zip</th>\n",
       "      <th>Order Status</th>\n",
       "      <th>Carrier Name &amp; Tracking Number</th>\n",
       "      <th>Subtotal</th>\n",
       "      <th>Shipping Charge</th>\n",
       "      <th>Tax Before Promotions</th>\n",
       "      <th>Total Promotions</th>\n",
       "      <th>Tax Charged</th>\n",
       "      <th>Total Charged</th>\n",
       "      <th>Group Name</th>\n",
       "    </tr>\n",
       "  </thead>\n",
       "  <tbody>\n",
       "    <tr>\n",
       "      <th>0</th>\n",
       "      <td>2012-11-06</td>\n",
       "      <td>002-3072880-0269809</td>\n",
       "      <td>Amazon.com</td>\n",
       "      <td>NaN</td>\n",
       "      <td>2012-11-06</td>\n",
       "      <td>MALVERN</td>\n",
       "      <td>PA</td>\n",
       "      <td>19355-3222</td>\n",
       "      <td>Shipped</td>\n",
       "      <td>UPS(1ZVV65500355630089)</td>\n",
       "      <td>$130.18</td>\n",
       "      <td>$0.00</td>\n",
       "      <td>$7.82</td>\n",
       "      <td>$0.00</td>\n",
       "      <td>$7.82</td>\n",
       "      <td>$138.00</td>\n",
       "      <td>NaN</td>\n",
       "    </tr>\n",
       "    <tr>\n",
       "      <th>1</th>\n",
       "      <td>2012-11-07</td>\n",
       "      <td>002-6376286-4641065</td>\n",
       "      <td>Amazon.com</td>\n",
       "      <td>NaN</td>\n",
       "      <td>2012-11-07</td>\n",
       "      <td>MALVERN</td>\n",
       "      <td>PA</td>\n",
       "      <td>19355-3222</td>\n",
       "      <td>Shipped</td>\n",
       "      <td>UPS(1Z602A6E0300243163)</td>\n",
       "      <td>$10.99</td>\n",
       "      <td>$0.00</td>\n",
       "      <td>$0.66</td>\n",
       "      <td>$0.00</td>\n",
       "      <td>$0.66</td>\n",
       "      <td>$11.65</td>\n",
       "      <td>NaN</td>\n",
       "    </tr>\n",
       "    <tr>\n",
       "      <th>2</th>\n",
       "      <td>2012-11-12</td>\n",
       "      <td>103-5245236-4670652</td>\n",
       "      <td>Amazon.com</td>\n",
       "      <td>NaN</td>\n",
       "      <td>2012-11-12</td>\n",
       "      <td>MALVERN</td>\n",
       "      <td>PA</td>\n",
       "      <td>19355-3222</td>\n",
       "      <td>Shipped</td>\n",
       "      <td>UPS(1ZVV65500355884332)</td>\n",
       "      <td>$0.00</td>\n",
       "      <td>$0.00</td>\n",
       "      <td>$0.00</td>\n",
       "      <td>$0.00</td>\n",
       "      <td>$0.00</td>\n",
       "      <td>$0.00</td>\n",
       "      <td>NaN</td>\n",
       "    </tr>\n",
       "    <tr>\n",
       "      <th>3</th>\n",
       "      <td>2012-11-28</td>\n",
       "      <td>102-0915717-0042619</td>\n",
       "      <td>Amazon.com</td>\n",
       "      <td>NaN</td>\n",
       "      <td>2012-11-28</td>\n",
       "      <td>MALVERN</td>\n",
       "      <td>PA</td>\n",
       "      <td>19355-3237</td>\n",
       "      <td>Shipped</td>\n",
       "      <td>UPS(1Z6Y3A560310105434)</td>\n",
       "      <td>$39.98</td>\n",
       "      <td>$0.00</td>\n",
       "      <td>$2.40</td>\n",
       "      <td>$0.00</td>\n",
       "      <td>$2.40</td>\n",
       "      <td>$42.38</td>\n",
       "      <td>NaN</td>\n",
       "    </tr>\n",
       "    <tr>\n",
       "      <th>4</th>\n",
       "      <td>2013-02-19</td>\n",
       "      <td>111-7799252-0977047</td>\n",
       "      <td>Amazon.com</td>\n",
       "      <td>NaN</td>\n",
       "      <td>2013-02-23</td>\n",
       "      <td>MALVERN</td>\n",
       "      <td>PA</td>\n",
       "      <td>19355-3241</td>\n",
       "      <td>Shipped</td>\n",
       "      <td>USPS(9361289932159103195721)</td>\n",
       "      <td>$101.96</td>\n",
       "      <td>$9.68</td>\n",
       "      <td>$6.12</td>\n",
       "      <td>$9.68</td>\n",
       "      <td>$6.12</td>\n",
       "      <td>$108.08</td>\n",
       "      <td>NaN</td>\n",
       "    </tr>\n",
       "  </tbody>\n",
       "</table>\n",
       "</div>"
      ],
      "text/plain": [
       "  Order Date             Order ID     Website  Purchase Order Number  \\\n",
       "0 2012-11-06  002-3072880-0269809  Amazon.com                    NaN   \n",
       "1 2012-11-07  002-6376286-4641065  Amazon.com                    NaN   \n",
       "2 2012-11-12  103-5245236-4670652  Amazon.com                    NaN   \n",
       "3 2012-11-28  102-0915717-0042619  Amazon.com                    NaN   \n",
       "4 2013-02-19  111-7799252-0977047  Amazon.com                    NaN   \n",
       "\n",
       "  Shipment Date Shipping Address City Shipping Address State  \\\n",
       "0    2012-11-06               MALVERN                     PA   \n",
       "1    2012-11-07               MALVERN                     PA   \n",
       "2    2012-11-12               MALVERN                     PA   \n",
       "3    2012-11-28               MALVERN                     PA   \n",
       "4    2013-02-23               MALVERN                     PA   \n",
       "\n",
       "  Shipping Address Zip Order Status Carrier Name & Tracking Number  Subtotal  \\\n",
       "0           19355-3222      Shipped        UPS(1ZVV65500355630089)  $130.18    \n",
       "1           19355-3222      Shipped        UPS(1Z602A6E0300243163)   $10.99    \n",
       "2           19355-3222      Shipped        UPS(1ZVV65500355884332)    $0.00    \n",
       "3           19355-3237      Shipped        UPS(1Z6Y3A560310105434)   $39.98    \n",
       "4           19355-3241      Shipped   USPS(9361289932159103195721)  $101.96    \n",
       "\n",
       "  Shipping Charge Tax Before Promotions Total Promotions Tax Charged  \\\n",
       "0          $0.00                 $7.82            $0.00       $7.82    \n",
       "1          $0.00                 $0.66            $0.00       $0.66    \n",
       "2          $0.00                 $0.00            $0.00       $0.00    \n",
       "3          $0.00                 $2.40            $0.00       $2.40    \n",
       "4          $9.68                 $6.12            $9.68       $6.12    \n",
       "\n",
       "  Total Charged  Group Name  \n",
       "0      $138.00          NaN  \n",
       "1       $11.65          NaN  \n",
       "2        $0.00          NaN  \n",
       "3       $42.38          NaN  \n",
       "4      $108.08          NaN  "
      ]
     },
     "execution_count": 418,
     "metadata": {},
     "output_type": "execute_result"
    }
   ],
   "source": [
    "po_df.head()  # to see columns values with Nan or same values"
   ]
  },
  {
   "cell_type": "code",
   "execution_count": 419,
   "id": "d3914111",
   "metadata": {},
   "outputs": [
    {
     "data": {
      "text/plain": [
       "(301, 17)"
      ]
     },
     "execution_count": 419,
     "metadata": {},
     "output_type": "execute_result"
    }
   ],
   "source": [
    "po_df.shape"
   ]
  },
  {
   "cell_type": "code",
   "execution_count": 420,
   "id": "f91f80be",
   "metadata": {},
   "outputs": [
    {
     "data": {
      "text/plain": [
       "Index(['Order Date', 'Order ID', 'Website', 'Purchase Order Number',\n",
       "       'Shipment Date', 'Shipping Address City', 'Shipping Address State',\n",
       "       'Shipping Address Zip', 'Order Status',\n",
       "       'Carrier Name & Tracking Number', 'Subtotal', 'Shipping Charge',\n",
       "       'Tax Before Promotions', 'Total Promotions', 'Tax Charged',\n",
       "       'Total Charged', 'Group Name'],\n",
       "      dtype='object')"
      ]
     },
     "execution_count": 420,
     "metadata": {},
     "output_type": "execute_result"
    }
   ],
   "source": [
    "po_df.columns"
   ]
  },
  {
   "cell_type": "code",
   "execution_count": 421,
   "id": "c3db648c",
   "metadata": {},
   "outputs": [
    {
     "data": {
      "text/html": [
       "<div>\n",
       "<style scoped>\n",
       "    .dataframe tbody tr th:only-of-type {\n",
       "        vertical-align: middle;\n",
       "    }\n",
       "\n",
       "    .dataframe tbody tr th {\n",
       "        vertical-align: top;\n",
       "    }\n",
       "\n",
       "    .dataframe thead th {\n",
       "        text-align: right;\n",
       "    }\n",
       "</style>\n",
       "<table border=\"1\" class=\"dataframe\">\n",
       "  <thead>\n",
       "    <tr style=\"text-align: right;\">\n",
       "      <th></th>\n",
       "      <th>Order Date</th>\n",
       "      <th>Order ID</th>\n",
       "      <th>Carrier Name &amp; Tracking Number</th>\n",
       "      <th>Order Status</th>\n",
       "      <th>Subtotal</th>\n",
       "      <th>Tax Charged</th>\n",
       "      <th>Shipping Charge</th>\n",
       "      <th>Total Charged</th>\n",
       "    </tr>\n",
       "  </thead>\n",
       "  <tbody>\n",
       "    <tr>\n",
       "      <th>0</th>\n",
       "      <td>2012-11-06</td>\n",
       "      <td>002-3072880-0269809</td>\n",
       "      <td>UPS(1ZVV65500355630089)</td>\n",
       "      <td>Shipped</td>\n",
       "      <td>$130.18</td>\n",
       "      <td>$7.82</td>\n",
       "      <td>$0.00</td>\n",
       "      <td>$138.00</td>\n",
       "    </tr>\n",
       "    <tr>\n",
       "      <th>1</th>\n",
       "      <td>2012-11-07</td>\n",
       "      <td>002-6376286-4641065</td>\n",
       "      <td>UPS(1Z602A6E0300243163)</td>\n",
       "      <td>Shipped</td>\n",
       "      <td>$10.99</td>\n",
       "      <td>$0.66</td>\n",
       "      <td>$0.00</td>\n",
       "      <td>$11.65</td>\n",
       "    </tr>\n",
       "    <tr>\n",
       "      <th>2</th>\n",
       "      <td>2012-11-12</td>\n",
       "      <td>103-5245236-4670652</td>\n",
       "      <td>UPS(1ZVV65500355884332)</td>\n",
       "      <td>Shipped</td>\n",
       "      <td>$0.00</td>\n",
       "      <td>$0.00</td>\n",
       "      <td>$0.00</td>\n",
       "      <td>$0.00</td>\n",
       "    </tr>\n",
       "    <tr>\n",
       "      <th>3</th>\n",
       "      <td>2012-11-28</td>\n",
       "      <td>102-0915717-0042619</td>\n",
       "      <td>UPS(1Z6Y3A560310105434)</td>\n",
       "      <td>Shipped</td>\n",
       "      <td>$39.98</td>\n",
       "      <td>$2.40</td>\n",
       "      <td>$0.00</td>\n",
       "      <td>$42.38</td>\n",
       "    </tr>\n",
       "    <tr>\n",
       "      <th>4</th>\n",
       "      <td>2013-02-19</td>\n",
       "      <td>111-7799252-0977047</td>\n",
       "      <td>USPS(9361289932159103195721)</td>\n",
       "      <td>Shipped</td>\n",
       "      <td>$101.96</td>\n",
       "      <td>$6.12</td>\n",
       "      <td>$9.68</td>\n",
       "      <td>$108.08</td>\n",
       "    </tr>\n",
       "  </tbody>\n",
       "</table>\n",
       "</div>"
      ],
      "text/plain": [
       "  Order Date             Order ID Carrier Name & Tracking Number Order Status  \\\n",
       "0 2012-11-06  002-3072880-0269809        UPS(1ZVV65500355630089)      Shipped   \n",
       "1 2012-11-07  002-6376286-4641065        UPS(1Z602A6E0300243163)      Shipped   \n",
       "2 2012-11-12  103-5245236-4670652        UPS(1ZVV65500355884332)      Shipped   \n",
       "3 2012-11-28  102-0915717-0042619        UPS(1Z6Y3A560310105434)      Shipped   \n",
       "4 2013-02-19  111-7799252-0977047   USPS(9361289932159103195721)      Shipped   \n",
       "\n",
       "   Subtotal Tax Charged Shipping Charge Total Charged  \n",
       "0  $130.18       $7.82           $0.00       $138.00   \n",
       "1   $10.99       $0.66           $0.00        $11.65   \n",
       "2    $0.00       $0.00           $0.00         $0.00   \n",
       "3   $39.98       $2.40           $0.00        $42.38   \n",
       "4  $101.96       $6.12           $9.68       $108.08   "
      ]
     },
     "execution_count": 421,
     "metadata": {},
     "output_type": "execute_result"
    }
   ],
   "source": [
    "po_df= po_df[['Order Date', 'Order ID', 'Carrier Name & Tracking Number', 'Order Status','Subtotal','Tax Charged',\n",
    "              'Shipping Charge','Total Charged']]\n",
    "po_df.head()"
   ]
  },
  {
   "cell_type": "code",
   "execution_count": null,
   "id": "091b682f",
   "metadata": {},
   "outputs": [],
   "source": []
  },
  {
   "cell_type": "code",
   "execution_count": 422,
   "id": "b74e0a36",
   "metadata": {},
   "outputs": [
    {
     "data": {
      "text/plain": [
       "Order Date                        datetime64[ns]\n",
       "Order ID                                  object\n",
       "Carrier Name & Tracking Number            object\n",
       "Order Status                              object\n",
       "Subtotal                                  object\n",
       "Tax Charged                               object\n",
       "Shipping Charge                           object\n",
       "Total Charged                             object\n",
       "dtype: object"
      ]
     },
     "execution_count": 422,
     "metadata": {},
     "output_type": "execute_result"
    }
   ],
   "source": [
    "po_df.dtypes  # prices are objects here so could be strings has to changed to floats"
   ]
  },
  {
   "cell_type": "code",
   "execution_count": 423,
   "id": "c945c435",
   "metadata": {},
   "outputs": [],
   "source": [
    "#to drop any column\n",
    "#po_df.drop(['Website','Purchase Order Number','Group Name'], axis = 1,inplace=True)   --> with inplace can't use head"
   ]
  },
  {
   "cell_type": "code",
   "execution_count": 424,
   "id": "1d2d468c",
   "metadata": {
    "scrolled": true
   },
   "outputs": [],
   "source": [
    "#drop with head()\n",
    "#po_df.drop(['Website','Purchase Order Number'], axis = 1).head()\n"
   ]
  },
  {
   "cell_type": "code",
   "execution_count": 425,
   "id": "99c487fd",
   "metadata": {
    "scrolled": true
   },
   "outputs": [
    {
     "data": {
      "text/html": [
       "<div>\n",
       "<style scoped>\n",
       "    .dataframe tbody tr th:only-of-type {\n",
       "        vertical-align: middle;\n",
       "    }\n",
       "\n",
       "    .dataframe tbody tr th {\n",
       "        vertical-align: top;\n",
       "    }\n",
       "\n",
       "    .dataframe thead th {\n",
       "        text-align: right;\n",
       "    }\n",
       "</style>\n",
       "<table border=\"1\" class=\"dataframe\">\n",
       "  <thead>\n",
       "    <tr style=\"text-align: right;\">\n",
       "      <th></th>\n",
       "      <th>OrderDate</th>\n",
       "      <th>OrderID</th>\n",
       "      <th>Carrier</th>\n",
       "      <th>OrderStatus</th>\n",
       "      <th>Subtotal</th>\n",
       "      <th>TaxCharged</th>\n",
       "      <th>ShippingCharge</th>\n",
       "      <th>TotalCharged</th>\n",
       "    </tr>\n",
       "  </thead>\n",
       "  <tbody>\n",
       "    <tr>\n",
       "      <th>0</th>\n",
       "      <td>2012-11-06</td>\n",
       "      <td>002-3072880-0269809</td>\n",
       "      <td>UPS(1ZVV65500355630089)</td>\n",
       "      <td>Shipped</td>\n",
       "      <td>$130.18</td>\n",
       "      <td>$7.82</td>\n",
       "      <td>$0.00</td>\n",
       "      <td>$138.00</td>\n",
       "    </tr>\n",
       "    <tr>\n",
       "      <th>1</th>\n",
       "      <td>2012-11-07</td>\n",
       "      <td>002-6376286-4641065</td>\n",
       "      <td>UPS(1Z602A6E0300243163)</td>\n",
       "      <td>Shipped</td>\n",
       "      <td>$10.99</td>\n",
       "      <td>$0.66</td>\n",
       "      <td>$0.00</td>\n",
       "      <td>$11.65</td>\n",
       "    </tr>\n",
       "    <tr>\n",
       "      <th>2</th>\n",
       "      <td>2012-11-12</td>\n",
       "      <td>103-5245236-4670652</td>\n",
       "      <td>UPS(1ZVV65500355884332)</td>\n",
       "      <td>Shipped</td>\n",
       "      <td>$0.00</td>\n",
       "      <td>$0.00</td>\n",
       "      <td>$0.00</td>\n",
       "      <td>$0.00</td>\n",
       "    </tr>\n",
       "    <tr>\n",
       "      <th>3</th>\n",
       "      <td>2012-11-28</td>\n",
       "      <td>102-0915717-0042619</td>\n",
       "      <td>UPS(1Z6Y3A560310105434)</td>\n",
       "      <td>Shipped</td>\n",
       "      <td>$39.98</td>\n",
       "      <td>$2.40</td>\n",
       "      <td>$0.00</td>\n",
       "      <td>$42.38</td>\n",
       "    </tr>\n",
       "    <tr>\n",
       "      <th>4</th>\n",
       "      <td>2013-02-19</td>\n",
       "      <td>111-7799252-0977047</td>\n",
       "      <td>USPS(9361289932159103195721)</td>\n",
       "      <td>Shipped</td>\n",
       "      <td>$101.96</td>\n",
       "      <td>$6.12</td>\n",
       "      <td>$9.68</td>\n",
       "      <td>$108.08</td>\n",
       "    </tr>\n",
       "  </tbody>\n",
       "</table>\n",
       "</div>"
      ],
      "text/plain": [
       "   OrderDate              OrderID                       Carrier OrderStatus  \\\n",
       "0 2012-11-06  002-3072880-0269809       UPS(1ZVV65500355630089)     Shipped   \n",
       "1 2012-11-07  002-6376286-4641065       UPS(1Z602A6E0300243163)     Shipped   \n",
       "2 2012-11-12  103-5245236-4670652       UPS(1ZVV65500355884332)     Shipped   \n",
       "3 2012-11-28  102-0915717-0042619       UPS(1Z6Y3A560310105434)     Shipped   \n",
       "4 2013-02-19  111-7799252-0977047  USPS(9361289932159103195721)     Shipped   \n",
       "\n",
       "   Subtotal TaxCharged ShippingCharge TotalCharged  \n",
       "0  $130.18      $7.82          $0.00      $138.00   \n",
       "1   $10.99      $0.66          $0.00       $11.65   \n",
       "2    $0.00      $0.00          $0.00        $0.00   \n",
       "3   $39.98      $2.40          $0.00       $42.38   \n",
       "4  $101.96      $6.12          $9.68      $108.08   "
      ]
     },
     "execution_count": 425,
     "metadata": {},
     "output_type": "execute_result"
    }
   ],
   "source": [
    "#Rename column Names  to remove spaces\n",
    "po_df.columns = po_df.columns.str.replace(' ','') # overwrtting the columns\n",
    "\n",
    "po_df=po_df.rename(\n",
    "         columns={\n",
    "                 'CarrierName&TrackingNumber':'Carrier',\n",
    "            \n",
    "                 \n",
    "             }\n",
    "         )\n",
    "po_df.head()"
   ]
  },
  {
   "cell_type": "code",
   "execution_count": 426,
   "id": "bbb2b0e1",
   "metadata": {},
   "outputs": [
    {
     "data": {
      "text/plain": [
       "(301, 8)"
      ]
     },
     "execution_count": 426,
     "metadata": {},
     "output_type": "execute_result"
    }
   ],
   "source": [
    "po_df.shape  # after deleting it should be 14 columns"
   ]
  },
  {
   "cell_type": "code",
   "execution_count": 427,
   "id": "1dddc100",
   "metadata": {},
   "outputs": [
    {
     "data": {
      "text/plain": [
       "OrderDate          0\n",
       "OrderID            0\n",
       "Carrier           15\n",
       "OrderStatus        0\n",
       "Subtotal           0\n",
       "TaxCharged         0\n",
       "ShippingCharge     0\n",
       "TotalCharged       0\n",
       "dtype: int64"
      ]
     },
     "execution_count": 427,
     "metadata": {},
     "output_type": "execute_result"
    }
   ],
   "source": [
    "# counting the Nan occurences\n",
    "po_df.isna().sum()"
   ]
  },
  {
   "cell_type": "code",
   "execution_count": 430,
   "id": "62a21032",
   "metadata": {},
   "outputs": [],
   "source": [
    "# Rename the specific columns\n",
    "po_df=po_df.rename(\n",
    "         columns={\n",
    "                \n",
    "                 'CarrierName&TrackingNumber':'Carrier'\n",
    "                \n",
    "                 \n",
    "             }\n",
    "         )\n"
   ]
  },
  {
   "cell_type": "code",
   "execution_count": 432,
   "id": "c4a6a38b",
   "metadata": {
    "scrolled": false
   },
   "outputs": [
    {
     "name": "stderr",
     "output_type": "stream",
     "text": [
      "/var/folders/3c/hxpmknwd5cg9lwydrkf402qw0000gp/T/ipykernel_2165/3847874260.py:2: FutureWarning: The default value of regex will change from True to False in a future version. In addition, single character regular expressions will *not* be treated as literal strings when regex=True.\n",
      "  po_df['TotalCharged'] = po_df['TotalCharged'].str.replace('$','')\n"
     ]
    },
    {
     "data": {
      "text/html": [
       "<div>\n",
       "<style scoped>\n",
       "    .dataframe tbody tr th:only-of-type {\n",
       "        vertical-align: middle;\n",
       "    }\n",
       "\n",
       "    .dataframe tbody tr th {\n",
       "        vertical-align: top;\n",
       "    }\n",
       "\n",
       "    .dataframe thead th {\n",
       "        text-align: right;\n",
       "    }\n",
       "</style>\n",
       "<table border=\"1\" class=\"dataframe\">\n",
       "  <thead>\n",
       "    <tr style=\"text-align: right;\">\n",
       "      <th></th>\n",
       "      <th>OrderDate</th>\n",
       "      <th>OrderID</th>\n",
       "      <th>Carrier</th>\n",
       "      <th>OrderStatus</th>\n",
       "      <th>Subtotal</th>\n",
       "      <th>TaxCharged</th>\n",
       "      <th>ShippingCharge</th>\n",
       "      <th>TotalCharged</th>\n",
       "    </tr>\n",
       "  </thead>\n",
       "  <tbody>\n",
       "    <tr>\n",
       "      <th>0</th>\n",
       "      <td>2012-11-06</td>\n",
       "      <td>002-3072880-0269809</td>\n",
       "      <td>UPS</td>\n",
       "      <td>Shipped</td>\n",
       "      <td>$130.18</td>\n",
       "      <td>$7.82</td>\n",
       "      <td>$0.00</td>\n",
       "      <td>138.00</td>\n",
       "    </tr>\n",
       "    <tr>\n",
       "      <th>1</th>\n",
       "      <td>2012-11-07</td>\n",
       "      <td>002-6376286-4641065</td>\n",
       "      <td>UPS</td>\n",
       "      <td>Shipped</td>\n",
       "      <td>$10.99</td>\n",
       "      <td>$0.66</td>\n",
       "      <td>$0.00</td>\n",
       "      <td>11.65</td>\n",
       "    </tr>\n",
       "    <tr>\n",
       "      <th>2</th>\n",
       "      <td>2012-11-12</td>\n",
       "      <td>103-5245236-4670652</td>\n",
       "      <td>UPS</td>\n",
       "      <td>Shipped</td>\n",
       "      <td>$0.00</td>\n",
       "      <td>$0.00</td>\n",
       "      <td>$0.00</td>\n",
       "      <td>0.00</td>\n",
       "    </tr>\n",
       "    <tr>\n",
       "      <th>3</th>\n",
       "      <td>2012-11-28</td>\n",
       "      <td>102-0915717-0042619</td>\n",
       "      <td>UPS</td>\n",
       "      <td>Shipped</td>\n",
       "      <td>$39.98</td>\n",
       "      <td>$2.40</td>\n",
       "      <td>$0.00</td>\n",
       "      <td>42.38</td>\n",
       "    </tr>\n",
       "    <tr>\n",
       "      <th>4</th>\n",
       "      <td>2013-02-19</td>\n",
       "      <td>111-7799252-0977047</td>\n",
       "      <td>USPS</td>\n",
       "      <td>Shipped</td>\n",
       "      <td>$101.96</td>\n",
       "      <td>$6.12</td>\n",
       "      <td>$9.68</td>\n",
       "      <td>108.08</td>\n",
       "    </tr>\n",
       "  </tbody>\n",
       "</table>\n",
       "</div>"
      ],
      "text/plain": [
       "   OrderDate              OrderID Carrier OrderStatus  Subtotal TaxCharged  \\\n",
       "0 2012-11-06  002-3072880-0269809     UPS     Shipped  $130.18      $7.82    \n",
       "1 2012-11-07  002-6376286-4641065     UPS     Shipped   $10.99      $0.66    \n",
       "2 2012-11-12  103-5245236-4670652     UPS     Shipped    $0.00      $0.00    \n",
       "3 2012-11-28  102-0915717-0042619     UPS     Shipped   $39.98      $2.40    \n",
       "4 2013-02-19  111-7799252-0977047    USPS     Shipped  $101.96      $6.12    \n",
       "\n",
       "  ShippingCharge TotalCharged  \n",
       "0         $0.00       138.00   \n",
       "1         $0.00        11.65   \n",
       "2         $0.00         0.00   \n",
       "3         $0.00        42.38   \n",
       "4         $9.68       108.08   "
      ]
     },
     "execution_count": 432,
     "metadata": {},
     "output_type": "execute_result"
    }
   ],
   "source": [
    "\n",
    "po_df.Carrier=po_df.Carrier.str.split('(').str[0]\n",
    "po_df['TotalCharged'] = po_df['TotalCharged'].str.replace('$','')\n",
    "po_df.head()\n",
    "#removing the tracking num from carrier\n",
    "#po_df.join(po_df['Carrier'].str.split('(', 1, expand=True).rename(columns={0:'Carrier1', 1:'Tracking'})).head()"
   ]
  },
  {
   "cell_type": "code",
   "execution_count": null,
   "id": "ef23eb5f",
   "metadata": {
    "scrolled": true
   },
   "outputs": [],
   "source": []
  },
  {
   "cell_type": "markdown",
   "id": "cf14fdb1",
   "metadata": {},
   "source": [
    "# Transformation"
   ]
  },
  {
   "cell_type": "code",
   "execution_count": 433,
   "id": "ec100184",
   "metadata": {},
   "outputs": [],
   "source": [
    " po_df['QUARTER'] =pd.PeriodIndex(po_df['OrderDate'], freq='Q')\n",
    "\n"
   ]
  },
  {
   "cell_type": "code",
   "execution_count": 434,
   "id": "6f2ac57a",
   "metadata": {
    "scrolled": true
   },
   "outputs": [
    {
     "data": {
      "text/html": [
       "<div>\n",
       "<style scoped>\n",
       "    .dataframe tbody tr th:only-of-type {\n",
       "        vertical-align: middle;\n",
       "    }\n",
       "\n",
       "    .dataframe tbody tr th {\n",
       "        vertical-align: top;\n",
       "    }\n",
       "\n",
       "    .dataframe thead th {\n",
       "        text-align: right;\n",
       "    }\n",
       "</style>\n",
       "<table border=\"1\" class=\"dataframe\">\n",
       "  <thead>\n",
       "    <tr style=\"text-align: right;\">\n",
       "      <th></th>\n",
       "      <th>OrderDate</th>\n",
       "      <th>OrderID</th>\n",
       "      <th>Carrier</th>\n",
       "      <th>OrderStatus</th>\n",
       "      <th>Subtotal</th>\n",
       "      <th>TaxCharged</th>\n",
       "      <th>ShippingCharge</th>\n",
       "      <th>TotalCharged</th>\n",
       "      <th>QUARTER</th>\n",
       "    </tr>\n",
       "  </thead>\n",
       "  <tbody>\n",
       "    <tr>\n",
       "      <th>0</th>\n",
       "      <td>2012-11-06</td>\n",
       "      <td>002-3072880-0269809</td>\n",
       "      <td>UPS</td>\n",
       "      <td>Shipped</td>\n",
       "      <td>$130.18</td>\n",
       "      <td>$7.82</td>\n",
       "      <td>$0.00</td>\n",
       "      <td>138.00</td>\n",
       "      <td>2012Q4</td>\n",
       "    </tr>\n",
       "    <tr>\n",
       "      <th>1</th>\n",
       "      <td>2012-11-07</td>\n",
       "      <td>002-6376286-4641065</td>\n",
       "      <td>UPS</td>\n",
       "      <td>Shipped</td>\n",
       "      <td>$10.99</td>\n",
       "      <td>$0.66</td>\n",
       "      <td>$0.00</td>\n",
       "      <td>11.65</td>\n",
       "      <td>2012Q4</td>\n",
       "    </tr>\n",
       "    <tr>\n",
       "      <th>2</th>\n",
       "      <td>2012-11-12</td>\n",
       "      <td>103-5245236-4670652</td>\n",
       "      <td>UPS</td>\n",
       "      <td>Shipped</td>\n",
       "      <td>$0.00</td>\n",
       "      <td>$0.00</td>\n",
       "      <td>$0.00</td>\n",
       "      <td>0.00</td>\n",
       "      <td>2012Q4</td>\n",
       "    </tr>\n",
       "    <tr>\n",
       "      <th>3</th>\n",
       "      <td>2012-11-28</td>\n",
       "      <td>102-0915717-0042619</td>\n",
       "      <td>UPS</td>\n",
       "      <td>Shipped</td>\n",
       "      <td>$39.98</td>\n",
       "      <td>$2.40</td>\n",
       "      <td>$0.00</td>\n",
       "      <td>42.38</td>\n",
       "      <td>2012Q4</td>\n",
       "    </tr>\n",
       "    <tr>\n",
       "      <th>4</th>\n",
       "      <td>2013-02-19</td>\n",
       "      <td>111-7799252-0977047</td>\n",
       "      <td>USPS</td>\n",
       "      <td>Shipped</td>\n",
       "      <td>$101.96</td>\n",
       "      <td>$6.12</td>\n",
       "      <td>$9.68</td>\n",
       "      <td>108.08</td>\n",
       "      <td>2013Q1</td>\n",
       "    </tr>\n",
       "  </tbody>\n",
       "</table>\n",
       "</div>"
      ],
      "text/plain": [
       "   OrderDate              OrderID Carrier OrderStatus  Subtotal TaxCharged  \\\n",
       "0 2012-11-06  002-3072880-0269809     UPS     Shipped  $130.18      $7.82    \n",
       "1 2012-11-07  002-6376286-4641065     UPS     Shipped   $10.99      $0.66    \n",
       "2 2012-11-12  103-5245236-4670652     UPS     Shipped    $0.00      $0.00    \n",
       "3 2012-11-28  102-0915717-0042619     UPS     Shipped   $39.98      $2.40    \n",
       "4 2013-02-19  111-7799252-0977047    USPS     Shipped  $101.96      $6.12    \n",
       "\n",
       "  ShippingCharge TotalCharged QUARTER  \n",
       "0         $0.00       138.00   2012Q4  \n",
       "1         $0.00        11.65   2012Q4  \n",
       "2         $0.00         0.00   2012Q4  \n",
       "3         $0.00        42.38   2012Q4  \n",
       "4         $9.68       108.08   2013Q1  "
      ]
     },
     "execution_count": 434,
     "metadata": {},
     "output_type": "execute_result"
    }
   ],
   "source": [
    "po_df.head() # with quater column added "
   ]
  },
  {
   "cell_type": "markdown",
   "id": "0101c866",
   "metadata": {},
   "source": [
    "# 1.Exercise greather 10 "
   ]
  },
  {
   "cell_type": "code",
   "execution_count": 471,
   "id": "9aa0db49",
   "metadata": {},
   "outputs": [
    {
     "data": {
      "text/plain": [
       "159"
      ]
     },
     "execution_count": 471,
     "metadata": {},
     "output_type": "execute_result"
    }
   ],
   "source": [
    "po_df['TotalCharged'] = po_df['TotalCharged'].astype(float)\n",
    "#o=po_df.loc[po_df['TotalCharged'] > 10].count()\n",
    "\n",
    "#print((po_df['TotalCharged'] >10).count())\n",
    "df1=po_df[po_df['TotalCharged']>10]\n",
    "df1.shape[0]\n"
   ]
  },
  {
   "cell_type": "markdown",
   "id": "dfb8870d",
   "metadata": {},
   "source": [
    "# 2.Compare before COVID 2 years and during pandamic "
   ]
  },
  {
   "cell_type": "code",
   "execution_count": 476,
   "id": "7d910d29",
   "metadata": {},
   "outputs": [],
   "source": [
    "#po_df['TotalCharged'] = po_df['TotalCharged'].str.replace('$','')\n",
    "#po_df['year'] = po_df['OrderDate'].dt.year\n",
    "#df2['year'] = pd. DatetimeIndex(po_df['OrderDate']). year\n",
    "po_df['year'] = pd.DatetimeIndex(po_df['OrderDate']).year"
   ]
  },
  {
   "cell_type": "code",
   "execution_count": 523,
   "id": "47924678",
   "metadata": {},
   "outputs": [
    {
     "data": {
      "text/html": [
       "<div>\n",
       "<style scoped>\n",
       "    .dataframe tbody tr th:only-of-type {\n",
       "        vertical-align: middle;\n",
       "    }\n",
       "\n",
       "    .dataframe tbody tr th {\n",
       "        vertical-align: top;\n",
       "    }\n",
       "\n",
       "    .dataframe thead th {\n",
       "        text-align: right;\n",
       "    }\n",
       "</style>\n",
       "<table border=\"1\" class=\"dataframe\">\n",
       "  <thead>\n",
       "    <tr style=\"text-align: right;\">\n",
       "      <th></th>\n",
       "      <th>OrderDate</th>\n",
       "      <th>OrderID</th>\n",
       "      <th>Carrier</th>\n",
       "      <th>OrderStatus</th>\n",
       "      <th>Subtotal</th>\n",
       "      <th>TaxCharged</th>\n",
       "      <th>ShippingCharge</th>\n",
       "      <th>TotalCharged</th>\n",
       "      <th>QUARTER</th>\n",
       "      <th>year</th>\n",
       "    </tr>\n",
       "  </thead>\n",
       "  <tbody>\n",
       "    <tr>\n",
       "      <th>0</th>\n",
       "      <td>2012-11-06</td>\n",
       "      <td>002-3072880-0269809</td>\n",
       "      <td>UPS</td>\n",
       "      <td>Shipped</td>\n",
       "      <td>$130.18</td>\n",
       "      <td>$7.82</td>\n",
       "      <td>$0.00</td>\n",
       "      <td>138.00</td>\n",
       "      <td>2012Q4</td>\n",
       "      <td>2012</td>\n",
       "    </tr>\n",
       "    <tr>\n",
       "      <th>1</th>\n",
       "      <td>2012-11-07</td>\n",
       "      <td>002-6376286-4641065</td>\n",
       "      <td>UPS</td>\n",
       "      <td>Shipped</td>\n",
       "      <td>$10.99</td>\n",
       "      <td>$0.66</td>\n",
       "      <td>$0.00</td>\n",
       "      <td>11.65</td>\n",
       "      <td>2012Q4</td>\n",
       "      <td>2012</td>\n",
       "    </tr>\n",
       "    <tr>\n",
       "      <th>2</th>\n",
       "      <td>2012-11-12</td>\n",
       "      <td>103-5245236-4670652</td>\n",
       "      <td>UPS</td>\n",
       "      <td>Shipped</td>\n",
       "      <td>$0.00</td>\n",
       "      <td>$0.00</td>\n",
       "      <td>$0.00</td>\n",
       "      <td>0.00</td>\n",
       "      <td>2012Q4</td>\n",
       "      <td>2012</td>\n",
       "    </tr>\n",
       "    <tr>\n",
       "      <th>3</th>\n",
       "      <td>2012-11-28</td>\n",
       "      <td>102-0915717-0042619</td>\n",
       "      <td>UPS</td>\n",
       "      <td>Shipped</td>\n",
       "      <td>$39.98</td>\n",
       "      <td>$2.40</td>\n",
       "      <td>$0.00</td>\n",
       "      <td>42.38</td>\n",
       "      <td>2012Q4</td>\n",
       "      <td>2012</td>\n",
       "    </tr>\n",
       "    <tr>\n",
       "      <th>4</th>\n",
       "      <td>2013-02-19</td>\n",
       "      <td>111-7799252-0977047</td>\n",
       "      <td>USPS</td>\n",
       "      <td>Shipped</td>\n",
       "      <td>$101.96</td>\n",
       "      <td>$6.12</td>\n",
       "      <td>$9.68</td>\n",
       "      <td>108.08</td>\n",
       "      <td>2013Q1</td>\n",
       "      <td>2013</td>\n",
       "    </tr>\n",
       "    <tr>\n",
       "      <th>...</th>\n",
       "      <td>...</td>\n",
       "      <td>...</td>\n",
       "      <td>...</td>\n",
       "      <td>...</td>\n",
       "      <td>...</td>\n",
       "      <td>...</td>\n",
       "      <td>...</td>\n",
       "      <td>...</td>\n",
       "      <td>...</td>\n",
       "      <td>...</td>\n",
       "    </tr>\n",
       "    <tr>\n",
       "      <th>296</th>\n",
       "      <td>2022-02-20</td>\n",
       "      <td>114-0488017-9568236</td>\n",
       "      <td>AMZN_US</td>\n",
       "      <td>Shipped</td>\n",
       "      <td>$32.59</td>\n",
       "      <td>$0.00</td>\n",
       "      <td>$0.00</td>\n",
       "      <td>19.55</td>\n",
       "      <td>2022Q1</td>\n",
       "      <td>2022</td>\n",
       "    </tr>\n",
       "    <tr>\n",
       "      <th>297</th>\n",
       "      <td>2022-02-26</td>\n",
       "      <td>113-9618918-3724230</td>\n",
       "      <td>USPS</td>\n",
       "      <td>Shipped</td>\n",
       "      <td>$5.98</td>\n",
       "      <td>$0.36</td>\n",
       "      <td>$0.00</td>\n",
       "      <td>6.34</td>\n",
       "      <td>2022Q1</td>\n",
       "      <td>2022</td>\n",
       "    </tr>\n",
       "    <tr>\n",
       "      <th>298</th>\n",
       "      <td>2022-03-13</td>\n",
       "      <td>114-7676118-7773048</td>\n",
       "      <td>UPS</td>\n",
       "      <td>Shipped</td>\n",
       "      <td>$2.06</td>\n",
       "      <td>$0.10</td>\n",
       "      <td>$0.00</td>\n",
       "      <td>1.64</td>\n",
       "      <td>2022Q1</td>\n",
       "      <td>2022</td>\n",
       "    </tr>\n",
       "    <tr>\n",
       "      <th>299</th>\n",
       "      <td>2022-04-06</td>\n",
       "      <td>112-3240198-1317033</td>\n",
       "      <td>UPS</td>\n",
       "      <td>Shipped</td>\n",
       "      <td>$14.77</td>\n",
       "      <td>$0.84</td>\n",
       "      <td>$0.00</td>\n",
       "      <td>14.87</td>\n",
       "      <td>2022Q2</td>\n",
       "      <td>2022</td>\n",
       "    </tr>\n",
       "    <tr>\n",
       "      <th>300</th>\n",
       "      <td>2022-04-08</td>\n",
       "      <td>113-0206069-1371432</td>\n",
       "      <td>NaN</td>\n",
       "      <td>Shipping soon</td>\n",
       "      <td>$14.99</td>\n",
       "      <td>$0.90</td>\n",
       "      <td>$0.00</td>\n",
       "      <td>15.89</td>\n",
       "      <td>2022Q2</td>\n",
       "      <td>2022</td>\n",
       "    </tr>\n",
       "  </tbody>\n",
       "</table>\n",
       "<p>301 rows × 10 columns</p>\n",
       "</div>"
      ],
      "text/plain": [
       "     OrderDate              OrderID  Carrier    OrderStatus  Subtotal  \\\n",
       "0   2012-11-06  002-3072880-0269809      UPS        Shipped  $130.18    \n",
       "1   2012-11-07  002-6376286-4641065      UPS        Shipped   $10.99    \n",
       "2   2012-11-12  103-5245236-4670652      UPS        Shipped    $0.00    \n",
       "3   2012-11-28  102-0915717-0042619      UPS        Shipped   $39.98    \n",
       "4   2013-02-19  111-7799252-0977047     USPS        Shipped  $101.96    \n",
       "..         ...                  ...      ...            ...       ...   \n",
       "296 2022-02-20  114-0488017-9568236  AMZN_US        Shipped   $32.59    \n",
       "297 2022-02-26  113-9618918-3724230     USPS        Shipped    $5.98    \n",
       "298 2022-03-13  114-7676118-7773048      UPS        Shipped    $2.06    \n",
       "299 2022-04-06  112-3240198-1317033      UPS        Shipped   $14.77    \n",
       "300 2022-04-08  113-0206069-1371432      NaN  Shipping soon   $14.99    \n",
       "\n",
       "    TaxCharged ShippingCharge  TotalCharged QUARTER  year  \n",
       "0       $7.82          $0.00         138.00  2012Q4  2012  \n",
       "1       $0.66          $0.00          11.65  2012Q4  2012  \n",
       "2       $0.00          $0.00           0.00  2012Q4  2012  \n",
       "3       $2.40          $0.00          42.38  2012Q4  2012  \n",
       "4       $6.12          $9.68         108.08  2013Q1  2013  \n",
       "..         ...            ...           ...     ...   ...  \n",
       "296     $0.00          $0.00          19.55  2022Q1  2022  \n",
       "297     $0.36          $0.00           6.34  2022Q1  2022  \n",
       "298     $0.10          $0.00           1.64  2022Q1  2022  \n",
       "299     $0.84          $0.00          14.87  2022Q2  2022  \n",
       "300     $0.90          $0.00          15.89  2022Q2  2022  \n",
       "\n",
       "[301 rows x 10 columns]"
      ]
     },
     "execution_count": 523,
     "metadata": {},
     "output_type": "execute_result"
    }
   ],
   "source": [
    "po_df"
   ]
  },
  {
   "cell_type": "code",
   "execution_count": 532,
   "id": "63c50af1",
   "metadata": {},
   "outputs": [
    {
     "data": {
      "text/plain": [
       "985.09"
      ]
     },
     "execution_count": 532,
     "metadata": {},
     "output_type": "execute_result"
    }
   ],
   "source": [
    "df_bc=po_df.loc[(po_df['year'] == 2019 ), 'TotalCharged'].sum()\n",
    "df_19"
   ]
  },
  {
   "cell_type": "code",
   "execution_count": 533,
   "id": "d20cf2c6",
   "metadata": {},
   "outputs": [
    {
     "data": {
      "text/plain": [
       "1905.5599999999997"
      ]
     },
     "execution_count": 533,
     "metadata": {},
     "output_type": "execute_result"
    }
   ],
   "source": [
    "\n",
    "#po_df.loc[po_df['year'] == 2020, 'TotalCharged'].sum()\n",
    "df_20=po_df.loc[(po_df['year'] == 2020 ), 'TotalCharged'].sum()\n",
    "df_20\n",
    "\n",
    "       \n",
    "            \n",
    "            "
   ]
  },
  {
   "cell_type": "code",
   "execution_count": 534,
   "id": "549ed940",
   "metadata": {},
   "outputs": [
    {
     "data": {
      "text/plain": [
       "2660.4700000000003"
      ]
     },
     "execution_count": 534,
     "metadata": {},
     "output_type": "execute_result"
    }
   ],
   "source": [
    "df_21=po_df.loc[(po_df['year'] == 2021 ), 'TotalCharged'].sum()\n",
    "df_21\n"
   ]
  },
  {
   "cell_type": "code",
   "execution_count": 536,
   "id": "e75bc65e",
   "metadata": {},
   "outputs": [
    {
     "data": {
      "text/plain": [
       "4566.03"
      ]
     },
     "execution_count": 536,
     "metadata": {},
     "output_type": "execute_result"
    }
   ],
   "source": [
    "df_c=df_20+df_21\n",
    "df_c"
   ]
  },
  {
   "cell_type": "code",
   "execution_count": 582,
   "id": "f534e367",
   "metadata": {},
   "outputs": [
    {
     "name": "stdout",
     "output_type": "stream",
     "text": [
      "<class 'pandas.core.frame.DataFrame'>\n",
      "RangeIndex: 301 entries, 0 to 300\n",
      "Data columns (total 10 columns):\n",
      " #   Column          Non-Null Count  Dtype         \n",
      "---  ------          --------------  -----         \n",
      " 0   OrderDate       301 non-null    datetime64[ns]\n",
      " 1   OrderID         301 non-null    object        \n",
      " 2   Carrier         286 non-null    object        \n",
      " 3   OrderStatus     301 non-null    object        \n",
      " 4   Subtotal        301 non-null    object        \n",
      " 5   TaxCharged      301 non-null    object        \n",
      " 6   ShippingCharge  301 non-null    object        \n",
      " 7   TotalCharged    301 non-null    float64       \n",
      " 8   QUARTER         301 non-null    period[Q-DEC] \n",
      " 9   year            301 non-null    int64         \n",
      "dtypes: datetime64[ns](1), float64(1), int64(1), object(6), period[Q-DEC](1)\n",
      "memory usage: 23.6+ KB\n"
     ]
    }
   ],
   "source": [
    "po_df=po_df.astype({'TotalCharged':'float'})\n",
    "po_df.info()"
   ]
  },
  {
   "cell_type": "code",
   "execution_count": null,
   "id": "3935278f",
   "metadata": {},
   "outputs": [],
   "source": []
  },
  {
   "cell_type": "code",
   "execution_count": 583,
   "id": "0db617d9",
   "metadata": {},
   "outputs": [
    {
     "data": {
      "text/plain": [
       "<AxesSubplot:title={'center':'Purchase by year '}, ylabel='Frequency'>"
      ]
     },
     "execution_count": 583,
     "metadata": {},
     "output_type": "execute_result"
    },
    {
     "data": {
      "image/png": "[encoded data removed]",
      "text/plain": [
       "<Figure size 432x288 with 1 Axes>"
      ]
     },
     "metadata": {
      "needs_background": "light"
     },
     "output_type": "display_data"
    }
   ],
   "source": [
    "po_df['TotalCharged'].plot.hist(title='Purchase by year ')"
   ]
  },
  {
   "cell_type": "code",
   "execution_count": 584,
   "id": "c2a50705",
   "metadata": {},
   "outputs": [
    {
     "data": {
      "text/plain": [
       "Text(0, 0.5, 'TotalCharged')"
      ]
     },
     "execution_count": 584,
     "metadata": {},
     "output_type": "execute_result"
    },
    {
     "data": {
      "image/png": "[encoded data removed]",
      "text/plain": [
       "<Figure size 432x288 with 1 Axes>"
      ]
     },
     "metadata": {
      "needs_background": "light"
     },
     "output_type": "display_data"
    }
   ],
   "source": [
    "x=po_df['TotalCharged']\n",
    "y=po_df['year']\n",
    "plt.scatter(x,y)\n",
    "plt.xlabel('year')\n",
    "plt.ylabel('TotalCharged')"
   ]
  },
  {
   "cell_type": "code",
   "execution_count": 588,
   "id": "bcced4d5",
   "metadata": {},
   "outputs": [
    {
     "data": {
      "text/html": [
       "<div>\n",
       "<style scoped>\n",
       "    .dataframe tbody tr th:only-of-type {\n",
       "        vertical-align: middle;\n",
       "    }\n",
       "\n",
       "    .dataframe tbody tr th {\n",
       "        vertical-align: top;\n",
       "    }\n",
       "\n",
       "    .dataframe thead th {\n",
       "        text-align: right;\n",
       "    }\n",
       "</style>\n",
       "<table border=\"1\" class=\"dataframe\">\n",
       "  <thead>\n",
       "    <tr style=\"text-align: right;\">\n",
       "      <th></th>\n",
       "      <th>TotalCharged</th>\n",
       "    </tr>\n",
       "    <tr>\n",
       "      <th>year</th>\n",
       "      <th></th>\n",
       "    </tr>\n",
       "  </thead>\n",
       "  <tbody>\n",
       "    <tr>\n",
       "      <th>2012</th>\n",
       "      <td>191.0</td>\n",
       "    </tr>\n",
       "    <tr>\n",
       "      <th>2013</th>\n",
       "      <td>232.0</td>\n",
       "    </tr>\n",
       "    <tr>\n",
       "      <th>2014</th>\n",
       "      <td>157.0</td>\n",
       "    </tr>\n",
       "    <tr>\n",
       "      <th>2015</th>\n",
       "      <td>295.0</td>\n",
       "    </tr>\n",
       "    <tr>\n",
       "      <th>2017</th>\n",
       "      <td>77.0</td>\n",
       "    </tr>\n",
       "    <tr>\n",
       "      <th>2019</th>\n",
       "      <td>977.0</td>\n",
       "    </tr>\n",
       "    <tr>\n",
       "      <th>2020</th>\n",
       "      <td>1868.0</td>\n",
       "    </tr>\n",
       "    <tr>\n",
       "      <th>2021</th>\n",
       "      <td>2574.0</td>\n",
       "    </tr>\n",
       "    <tr>\n",
       "      <th>2022</th>\n",
       "      <td>224.0</td>\n",
       "    </tr>\n",
       "  </tbody>\n",
       "</table>\n",
       "</div>"
      ],
      "text/plain": [
       "      TotalCharged\n",
       "year              \n",
       "2012         191.0\n",
       "2013         232.0\n",
       "2014         157.0\n",
       "2015         295.0\n",
       "2017          77.0\n",
       "2019         977.0\n",
       "2020        1868.0\n",
       "2021        2574.0\n",
       "2022         224.0"
      ]
     },
     "execution_count": 588,
     "metadata": {},
     "output_type": "execute_result"
    }
   ],
   "source": [
    "#Each year purchase\n",
    "df_year=po_df.groupby('year').sum()\n",
    "df_year=df_year.astype({'TotalCharged':'float'})\n",
    "df_year\n"
   ]
  },
  {
   "cell_type": "code",
   "execution_count": 591,
   "id": "b1d9ba67",
   "metadata": {},
   "outputs": [
    {
     "ename": "TypeError",
     "evalue": "'numpy.int64' object is not callable",
     "output_type": "error",
     "traceback": [
      "\u001b[0;31m---------------------------------------------------------------------------\u001b[0m",
      "\u001b[0;31mTypeError\u001b[0m                                 Traceback (most recent call last)",
      "Input \u001b[0;32mIn [591]\u001b[0m, in \u001b[0;36m<cell line: 1>\u001b[0;34m()\u001b[0m\n\u001b[0;32m----> 1\u001b[0m plt\u001b[38;5;241m.\u001b[39mbar(po_df\u001b[38;5;241m.\u001b[39mTotalCharged\u001b[38;5;241m.\u001b[39munique(),\u001b[43mdf_year\u001b[49m\u001b[38;5;241;43m.\u001b[39;49m\u001b[43msize\u001b[49m\u001b[43m(\u001b[49m\u001b[43m)\u001b[49m)\n\u001b[1;32m      2\u001b[0m plt\u001b[38;5;241m.\u001b[39mtitle(\u001b[38;5;124m'\u001b[39m\u001b[38;5;124mSpent yearly\u001b[39m\u001b[38;5;124m'\u001b[39m)\n",
      "\u001b[0;31mTypeError\u001b[0m: 'numpy.int64' object is not callable"
     ]
    }
   ],
   "source": [
    "plt.bar(po_df.TotalCharged.unique(),df_year.size())\n",
    "plt.title('Spent yearly')"
   ]
  },
  {
   "cell_type": "code",
   "execution_count": 586,
   "id": "61143ce3",
   "metadata": {},
   "outputs": [
    {
     "ename": "TypeError",
     "evalue": "only size-1 arrays can be converted to Python scalars",
     "output_type": "error",
     "traceback": [
      "\u001b[0;31m---------------------------------------------------------------------------\u001b[0m",
      "\u001b[0;31mTypeError\u001b[0m                                 Traceback (most recent call last)",
      "Input \u001b[0;32mIn [586]\u001b[0m, in \u001b[0;36m<cell line: 2>\u001b[0;34m()\u001b[0m\n\u001b[1;32m      1\u001b[0m fig,ax \u001b[38;5;241m=\u001b[39m plt\u001b[38;5;241m.\u001b[39msubplots(figsize \u001b[38;5;241m=\u001b[39m (\u001b[38;5;241m15\u001b[39m,\u001b[38;5;241m5\u001b[39m))\n\u001b[0;32m----> 2\u001b[0m \u001b[43max\u001b[49m\u001b[38;5;241;43m.\u001b[39;49m\u001b[43mbar\u001b[49m\u001b[43m(\u001b[49m\u001b[43mdf_year\u001b[49m\u001b[38;5;241;43m.\u001b[39;49m\u001b[43mindex\u001b[49m\u001b[43m,\u001b[49m\u001b[43m \u001b[49m\u001b[43mdf_year\u001b[49m\u001b[38;5;241;43m.\u001b[39;49m\u001b[43mvalues\u001b[49m\u001b[43m,\u001b[49m\u001b[43m \u001b[49m\u001b[43mcolor\u001b[49m\u001b[43m \u001b[49m\u001b[38;5;241;43m=\u001b[39;49m\u001b[43m \u001b[49m\u001b[38;5;124;43m'\u001b[39;49m\u001b[38;5;124;43msteelblue\u001b[39;49m\u001b[38;5;124;43m'\u001b[39;49m\u001b[43m)\u001b[49m\n\u001b[1;32m      3\u001b[0m ax\u001b[38;5;241m.\u001b[39mset_title(\u001b[38;5;124m'\u001b[39m\u001b[38;5;124mPurchases by Year\u001b[39m\u001b[38;5;124m'\u001b[39m)\n\u001b[1;32m      5\u001b[0m \u001b[38;5;66;03m# x-axis\u001b[39;00m\n",
      "File \u001b[0;32m/usr/local/lib/python3.9/site-packages/matplotlib/__init__.py:1412\u001b[0m, in \u001b[0;36m_preprocess_data.<locals>.inner\u001b[0;34m(ax, data, *args, **kwargs)\u001b[0m\n\u001b[1;32m   1409\u001b[0m \u001b[38;5;129m@functools\u001b[39m\u001b[38;5;241m.\u001b[39mwraps(func)\n\u001b[1;32m   1410\u001b[0m \u001b[38;5;28;01mdef\u001b[39;00m \u001b[38;5;21minner\u001b[39m(ax, \u001b[38;5;241m*\u001b[39margs, data\u001b[38;5;241m=\u001b[39m\u001b[38;5;28;01mNone\u001b[39;00m, \u001b[38;5;241m*\u001b[39m\u001b[38;5;241m*\u001b[39mkwargs):\n\u001b[1;32m   1411\u001b[0m     \u001b[38;5;28;01mif\u001b[39;00m data \u001b[38;5;129;01mis\u001b[39;00m \u001b[38;5;28;01mNone\u001b[39;00m:\n\u001b[0;32m-> 1412\u001b[0m         \u001b[38;5;28;01mreturn\u001b[39;00m \u001b[43mfunc\u001b[49m\u001b[43m(\u001b[49m\u001b[43max\u001b[49m\u001b[43m,\u001b[49m\u001b[43m \u001b[49m\u001b[38;5;241;43m*\u001b[39;49m\u001b[38;5;28;43mmap\u001b[39;49m\u001b[43m(\u001b[49m\u001b[43msanitize_sequence\u001b[49m\u001b[43m,\u001b[49m\u001b[43m \u001b[49m\u001b[43margs\u001b[49m\u001b[43m)\u001b[49m\u001b[43m,\u001b[49m\u001b[43m \u001b[49m\u001b[38;5;241;43m*\u001b[39;49m\u001b[38;5;241;43m*\u001b[39;49m\u001b[43mkwargs\u001b[49m\u001b[43m)\u001b[49m\n\u001b[1;32m   1414\u001b[0m     bound \u001b[38;5;241m=\u001b[39m new_sig\u001b[38;5;241m.\u001b[39mbind(ax, \u001b[38;5;241m*\u001b[39margs, \u001b[38;5;241m*\u001b[39m\u001b[38;5;241m*\u001b[39mkwargs)\n\u001b[1;32m   1415\u001b[0m     auto_label \u001b[38;5;241m=\u001b[39m (bound\u001b[38;5;241m.\u001b[39marguments\u001b[38;5;241m.\u001b[39mget(label_namer)\n\u001b[1;32m   1416\u001b[0m                   \u001b[38;5;129;01mor\u001b[39;00m bound\u001b[38;5;241m.\u001b[39mkwargs\u001b[38;5;241m.\u001b[39mget(label_namer))\n",
      "File \u001b[0;32m/usr/local/lib/python3.9/site-packages/matplotlib/axes/_axes.py:2395\u001b[0m, in \u001b[0;36mAxes.bar\u001b[0;34m(self, x, height, width, bottom, align, **kwargs)\u001b[0m\n\u001b[1;32m   2392\u001b[0m args \u001b[38;5;241m=\u001b[39m \u001b[38;5;28mzip\u001b[39m(left, bottom, width, height, color, edgecolor, linewidth,\n\u001b[1;32m   2393\u001b[0m            hatch)\n\u001b[1;32m   2394\u001b[0m \u001b[38;5;28;01mfor\u001b[39;00m l, b, w, h, c, e, lw, htch \u001b[38;5;129;01min\u001b[39;00m args:\n\u001b[0;32m-> 2395\u001b[0m     r \u001b[38;5;241m=\u001b[39m \u001b[43mmpatches\u001b[49m\u001b[38;5;241;43m.\u001b[39;49m\u001b[43mRectangle\u001b[49m\u001b[43m(\u001b[49m\n\u001b[1;32m   2396\u001b[0m \u001b[43m        \u001b[49m\u001b[43mxy\u001b[49m\u001b[38;5;241;43m=\u001b[39;49m\u001b[43m(\u001b[49m\u001b[43ml\u001b[49m\u001b[43m,\u001b[49m\u001b[43m \u001b[49m\u001b[43mb\u001b[49m\u001b[43m)\u001b[49m\u001b[43m,\u001b[49m\u001b[43m \u001b[49m\u001b[43mwidth\u001b[49m\u001b[38;5;241;43m=\u001b[39;49m\u001b[43mw\u001b[49m\u001b[43m,\u001b[49m\u001b[43m \u001b[49m\u001b[43mheight\u001b[49m\u001b[38;5;241;43m=\u001b[39;49m\u001b[43mh\u001b[49m\u001b[43m,\u001b[49m\n\u001b[1;32m   2397\u001b[0m \u001b[43m        \u001b[49m\u001b[43mfacecolor\u001b[49m\u001b[38;5;241;43m=\u001b[39;49m\u001b[43mc\u001b[49m\u001b[43m,\u001b[49m\n\u001b[1;32m   2398\u001b[0m \u001b[43m        \u001b[49m\u001b[43medgecolor\u001b[49m\u001b[38;5;241;43m=\u001b[39;49m\u001b[43me\u001b[49m\u001b[43m,\u001b[49m\n\u001b[1;32m   2399\u001b[0m \u001b[43m        \u001b[49m\u001b[43mlinewidth\u001b[49m\u001b[38;5;241;43m=\u001b[39;49m\u001b[43mlw\u001b[49m\u001b[43m,\u001b[49m\n\u001b[1;32m   2400\u001b[0m \u001b[43m        \u001b[49m\u001b[43mlabel\u001b[49m\u001b[38;5;241;43m=\u001b[39;49m\u001b[38;5;124;43m'\u001b[39;49m\u001b[38;5;124;43m_nolegend_\u001b[39;49m\u001b[38;5;124;43m'\u001b[39;49m\u001b[43m,\u001b[49m\n\u001b[1;32m   2401\u001b[0m \u001b[43m        \u001b[49m\u001b[43mhatch\u001b[49m\u001b[38;5;241;43m=\u001b[39;49m\u001b[43mhtch\u001b[49m\u001b[43m,\u001b[49m\n\u001b[1;32m   2402\u001b[0m \u001b[43m        \u001b[49m\u001b[43m)\u001b[49m\n\u001b[1;32m   2403\u001b[0m     r\u001b[38;5;241m.\u001b[39mupdate(kwargs)\n\u001b[1;32m   2404\u001b[0m     r\u001b[38;5;241m.\u001b[39mget_path()\u001b[38;5;241m.\u001b[39m_interpolation_steps \u001b[38;5;241m=\u001b[39m \u001b[38;5;241m100\u001b[39m\n",
      "File \u001b[0;32m/usr/local/lib/python3.9/site-packages/matplotlib/patches.py:727\u001b[0m, in \u001b[0;36mRectangle.__init__\u001b[0;34m(self, xy, width, height, angle, **kwargs)\u001b[0m\n\u001b[1;32m    708\u001b[0m \u001b[38;5;129m@docstring\u001b[39m\u001b[38;5;241m.\u001b[39mdedent_interpd\n\u001b[1;32m    709\u001b[0m \u001b[38;5;28;01mdef\u001b[39;00m \u001b[38;5;21m__init__\u001b[39m(\u001b[38;5;28mself\u001b[39m, xy, width, height, angle\u001b[38;5;241m=\u001b[39m\u001b[38;5;241m0.0\u001b[39m, \u001b[38;5;241m*\u001b[39m\u001b[38;5;241m*\u001b[39mkwargs):\n\u001b[1;32m    710\u001b[0m     \u001b[38;5;124;03m\"\"\"\u001b[39;00m\n\u001b[1;32m    711\u001b[0m \u001b[38;5;124;03m    Parameters\u001b[39;00m\n\u001b[1;32m    712\u001b[0m \u001b[38;5;124;03m    ----------\u001b[39;00m\n\u001b[0;32m   (...)\u001b[0m\n\u001b[1;32m    725\u001b[0m \u001b[38;5;124;03m        %(Patch:kwdoc)s\u001b[39;00m\n\u001b[1;32m    726\u001b[0m \u001b[38;5;124;03m    \"\"\"\u001b[39;00m\n\u001b[0;32m--> 727\u001b[0m     \u001b[38;5;28;43msuper\u001b[39;49m\u001b[43m(\u001b[49m\u001b[43m)\u001b[49m\u001b[38;5;241;43m.\u001b[39;49m\u001b[38;5;21;43m__init__\u001b[39;49m\u001b[43m(\u001b[49m\u001b[38;5;241;43m*\u001b[39;49m\u001b[38;5;241;43m*\u001b[39;49m\u001b[43mkwargs\u001b[49m\u001b[43m)\u001b[49m\n\u001b[1;32m    728\u001b[0m     \u001b[38;5;28mself\u001b[39m\u001b[38;5;241m.\u001b[39m_x0 \u001b[38;5;241m=\u001b[39m xy[\u001b[38;5;241m0\u001b[39m]\n\u001b[1;32m    729\u001b[0m     \u001b[38;5;28mself\u001b[39m\u001b[38;5;241m.\u001b[39m_y0 \u001b[38;5;241m=\u001b[39m xy[\u001b[38;5;241m1\u001b[39m]\n",
      "File \u001b[0;32m/usr/local/lib/python3.9/site-packages/matplotlib/patches.py:106\u001b[0m, in \u001b[0;36mPatch.__init__\u001b[0;34m(self, edgecolor, facecolor, color, linewidth, linestyle, antialiased, hatch, fill, capstyle, joinstyle, **kwargs)\u001b[0m\n\u001b[1;32m    104\u001b[0m \u001b[38;5;28mself\u001b[39m\u001b[38;5;241m.\u001b[39mset_fill(fill)\n\u001b[1;32m    105\u001b[0m \u001b[38;5;28mself\u001b[39m\u001b[38;5;241m.\u001b[39mset_linestyle(linestyle)\n\u001b[0;32m--> 106\u001b[0m \u001b[38;5;28;43mself\u001b[39;49m\u001b[38;5;241;43m.\u001b[39;49m\u001b[43mset_linewidth\u001b[49m\u001b[43m(\u001b[49m\u001b[43mlinewidth\u001b[49m\u001b[43m)\u001b[49m\n\u001b[1;32m    107\u001b[0m \u001b[38;5;28mself\u001b[39m\u001b[38;5;241m.\u001b[39mset_antialiased(antialiased)\n\u001b[1;32m    108\u001b[0m \u001b[38;5;28mself\u001b[39m\u001b[38;5;241m.\u001b[39mset_hatch(hatch)\n",
      "File \u001b[0;32m/usr/local/lib/python3.9/site-packages/matplotlib/patches.py:411\u001b[0m, in \u001b[0;36mPatch.set_linewidth\u001b[0;34m(self, w)\u001b[0m\n\u001b[1;32m    408\u001b[0m     \u001b[38;5;28;01mif\u001b[39;00m w \u001b[38;5;129;01mis\u001b[39;00m \u001b[38;5;28;01mNone\u001b[39;00m:\n\u001b[1;32m    409\u001b[0m         w \u001b[38;5;241m=\u001b[39m mpl\u001b[38;5;241m.\u001b[39mrcParams[\u001b[38;5;124m'\u001b[39m\u001b[38;5;124maxes.linewidth\u001b[39m\u001b[38;5;124m'\u001b[39m]\n\u001b[0;32m--> 411\u001b[0m \u001b[38;5;28mself\u001b[39m\u001b[38;5;241m.\u001b[39m_linewidth \u001b[38;5;241m=\u001b[39m \u001b[38;5;28;43mfloat\u001b[39;49m\u001b[43m(\u001b[49m\u001b[43mw\u001b[49m\u001b[43m)\u001b[49m\n\u001b[1;32m    412\u001b[0m \u001b[38;5;66;03m# scale the dash pattern by the linewidth\u001b[39;00m\n\u001b[1;32m    413\u001b[0m offset, ls \u001b[38;5;241m=\u001b[39m \u001b[38;5;28mself\u001b[39m\u001b[38;5;241m.\u001b[39m_us_dashes\n",
      "\u001b[0;31mTypeError\u001b[0m: only size-1 arrays can be converted to Python scalars"
     ]
    },
    {
     "data": {
      "image/png": "[encoded data removed]",
      "text/plain": [
       "<Figure size 1080x360 with 1 Axes>"
      ]
     },
     "metadata": {
      "needs_background": "light"
     },
     "output_type": "display_data"
    }
   ],
   "source": [
    "fig,ax = plt.subplots(figsize = (15,5))\n",
    "ax.bar(df_year.index, df_year.values, color = 'steelblue')\n",
    "ax.set_title('Purchases by Year')\n",
    "\n",
    "# x-axis\n",
    "ax.set_xlabel('Year')\n",
    "plt.xticks([x for x in df_year.index], rotation = 0)\n",
    "\n",
    "# y-axis\n",
    "ax.set_ylabel('Amount')\n",
    "ax.yaxis.set_major_formatter(\n",
    "    ticker.FuncFormatter(lambda y,p: '$'+format(int(y), ','))\n",
    ")\n",
    "\n",
    "# labels\n",
    "for i,j in zip(df_year.index, df_year.values):\n",
    "    ax.annotate(format(int(j), ','), xy=(i,j), va='bottom', ha='center')\n",
    "\n",
    "plt.show()"
   ]
  },
  {
   "cell_type": "code",
   "execution_count": null,
   "id": "c2072608",
   "metadata": {},
   "outputs": [],
   "source": []
  },
  {
   "cell_type": "code",
   "execution_count": null,
   "id": "303c64d8",
   "metadata": {},
   "outputs": [],
   "source": []
  },
  {
   "cell_type": "code",
   "execution_count": 569,
   "id": "ce7a2056",
   "metadata": {},
   "outputs": [
    {
     "data": {
      "image/png": "[encoded data removed]",
      "text/plain": [
       "<Figure size 1080x360 with 1 Axes>"
      ]
     },
     "metadata": {
      "needs_background": "light"
     },
     "output_type": "display_data"
    }
   ],
   "source": [
    "#plot purchase by year\n",
    "fig,ax=plt.subplots(figsize=(15,5))\n",
    "ax.plot(year_df.index,year_df.values,color='steelblue',marker='o')\n",
    "ax.set_title('Purchase by each year')\n",
    "\n",
    "#x-axis\n",
    "ax.set_xlabel('Year')\n",
    "\n",
    "#Y axis\n",
    "ax.set_ylabel('$ Amount')\n",
    "ax.yaxis.set_major_formatter(\n",
    "        ticker.FuncFormatter(lambda y,p:format(int(y),','))\n",
    ")\n",
    "plt.show()"
   ]
  },
  {
   "cell_type": "code",
   "execution_count": 565,
   "id": "281941c0",
   "metadata": {},
   "outputs": [
    {
     "ename": "TypeError",
     "evalue": "only size-1 arrays can be converted to Python scalars",
     "output_type": "error",
     "traceback": [
      "\u001b[0;31m---------------------------------------------------------------------------\u001b[0m",
      "\u001b[0;31mTypeError\u001b[0m                                 Traceback (most recent call last)",
      "Input \u001b[0;32mIn [565]\u001b[0m, in \u001b[0;36m<cell line: 3>\u001b[0;34m()\u001b[0m\n\u001b[1;32m      1\u001b[0m \u001b[38;5;66;03m#plot purchase by year bar chart\u001b[39;00m\n\u001b[1;32m      2\u001b[0m fig,ax\u001b[38;5;241m=\u001b[39mplt\u001b[38;5;241m.\u001b[39msubplots(figsize\u001b[38;5;241m=\u001b[39m(\u001b[38;5;241m15\u001b[39m,\u001b[38;5;241m5\u001b[39m))\n\u001b[0;32m----> 3\u001b[0m \u001b[43max\u001b[49m\u001b[38;5;241;43m.\u001b[39;49m\u001b[43mbar\u001b[49m\u001b[43m(\u001b[49m\u001b[43myear_df\u001b[49m\u001b[38;5;241;43m.\u001b[39;49m\u001b[43mindex\u001b[49m\u001b[43m,\u001b[49m\u001b[43m \u001b[49m\u001b[43myear_df\u001b[49m\u001b[38;5;241;43m.\u001b[39;49m\u001b[43mvalues\u001b[49m\u001b[43m,\u001b[49m\u001b[43m \u001b[49m\u001b[43mcolor\u001b[49m\u001b[38;5;241;43m=\u001b[39;49m\u001b[38;5;124;43m'\u001b[39;49m\u001b[38;5;124;43msteelblue\u001b[39;49m\u001b[38;5;124;43m'\u001b[39;49m\u001b[43m)\u001b[49m\n\u001b[1;32m      4\u001b[0m ax\u001b[38;5;241m.\u001b[39mset_title(\u001b[38;5;124m'\u001b[39m\u001b[38;5;124mPurchase by each year\u001b[39m\u001b[38;5;124m'\u001b[39m)\n\u001b[1;32m      6\u001b[0m \u001b[38;5;66;03m#x-axis\u001b[39;00m\n",
      "File \u001b[0;32m/usr/local/lib/python3.9/site-packages/matplotlib/__init__.py:1412\u001b[0m, in \u001b[0;36m_preprocess_data.<locals>.inner\u001b[0;34m(ax, data, *args, **kwargs)\u001b[0m\n\u001b[1;32m   1409\u001b[0m \u001b[38;5;129m@functools\u001b[39m\u001b[38;5;241m.\u001b[39mwraps(func)\n\u001b[1;32m   1410\u001b[0m \u001b[38;5;28;01mdef\u001b[39;00m \u001b[38;5;21minner\u001b[39m(ax, \u001b[38;5;241m*\u001b[39margs, data\u001b[38;5;241m=\u001b[39m\u001b[38;5;28;01mNone\u001b[39;00m, \u001b[38;5;241m*\u001b[39m\u001b[38;5;241m*\u001b[39mkwargs):\n\u001b[1;32m   1411\u001b[0m     \u001b[38;5;28;01mif\u001b[39;00m data \u001b[38;5;129;01mis\u001b[39;00m \u001b[38;5;28;01mNone\u001b[39;00m:\n\u001b[0;32m-> 1412\u001b[0m         \u001b[38;5;28;01mreturn\u001b[39;00m \u001b[43mfunc\u001b[49m\u001b[43m(\u001b[49m\u001b[43max\u001b[49m\u001b[43m,\u001b[49m\u001b[43m \u001b[49m\u001b[38;5;241;43m*\u001b[39;49m\u001b[38;5;28;43mmap\u001b[39;49m\u001b[43m(\u001b[49m\u001b[43msanitize_sequence\u001b[49m\u001b[43m,\u001b[49m\u001b[43m \u001b[49m\u001b[43margs\u001b[49m\u001b[43m)\u001b[49m\u001b[43m,\u001b[49m\u001b[43m \u001b[49m\u001b[38;5;241;43m*\u001b[39;49m\u001b[38;5;241;43m*\u001b[39;49m\u001b[43mkwargs\u001b[49m\u001b[43m)\u001b[49m\n\u001b[1;32m   1414\u001b[0m     bound \u001b[38;5;241m=\u001b[39m new_sig\u001b[38;5;241m.\u001b[39mbind(ax, \u001b[38;5;241m*\u001b[39margs, \u001b[38;5;241m*\u001b[39m\u001b[38;5;241m*\u001b[39mkwargs)\n\u001b[1;32m   1415\u001b[0m     auto_label \u001b[38;5;241m=\u001b[39m (bound\u001b[38;5;241m.\u001b[39marguments\u001b[38;5;241m.\u001b[39mget(label_namer)\n\u001b[1;32m   1416\u001b[0m                   \u001b[38;5;129;01mor\u001b[39;00m bound\u001b[38;5;241m.\u001b[39mkwargs\u001b[38;5;241m.\u001b[39mget(label_namer))\n",
      "File \u001b[0;32m/usr/local/lib/python3.9/site-packages/matplotlib/axes/_axes.py:2395\u001b[0m, in \u001b[0;36mAxes.bar\u001b[0;34m(self, x, height, width, bottom, align, **kwargs)\u001b[0m\n\u001b[1;32m   2392\u001b[0m args \u001b[38;5;241m=\u001b[39m \u001b[38;5;28mzip\u001b[39m(left, bottom, width, height, color, edgecolor, linewidth,\n\u001b[1;32m   2393\u001b[0m            hatch)\n\u001b[1;32m   2394\u001b[0m \u001b[38;5;28;01mfor\u001b[39;00m l, b, w, h, c, e, lw, htch \u001b[38;5;129;01min\u001b[39;00m args:\n\u001b[0;32m-> 2395\u001b[0m     r \u001b[38;5;241m=\u001b[39m \u001b[43mmpatches\u001b[49m\u001b[38;5;241;43m.\u001b[39;49m\u001b[43mRectangle\u001b[49m\u001b[43m(\u001b[49m\n\u001b[1;32m   2396\u001b[0m \u001b[43m        \u001b[49m\u001b[43mxy\u001b[49m\u001b[38;5;241;43m=\u001b[39;49m\u001b[43m(\u001b[49m\u001b[43ml\u001b[49m\u001b[43m,\u001b[49m\u001b[43m \u001b[49m\u001b[43mb\u001b[49m\u001b[43m)\u001b[49m\u001b[43m,\u001b[49m\u001b[43m \u001b[49m\u001b[43mwidth\u001b[49m\u001b[38;5;241;43m=\u001b[39;49m\u001b[43mw\u001b[49m\u001b[43m,\u001b[49m\u001b[43m \u001b[49m\u001b[43mheight\u001b[49m\u001b[38;5;241;43m=\u001b[39;49m\u001b[43mh\u001b[49m\u001b[43m,\u001b[49m\n\u001b[1;32m   2397\u001b[0m \u001b[43m        \u001b[49m\u001b[43mfacecolor\u001b[49m\u001b[38;5;241;43m=\u001b[39;49m\u001b[43mc\u001b[49m\u001b[43m,\u001b[49m\n\u001b[1;32m   2398\u001b[0m \u001b[43m        \u001b[49m\u001b[43medgecolor\u001b[49m\u001b[38;5;241;43m=\u001b[39;49m\u001b[43me\u001b[49m\u001b[43m,\u001b[49m\n\u001b[1;32m   2399\u001b[0m \u001b[43m        \u001b[49m\u001b[43mlinewidth\u001b[49m\u001b[38;5;241;43m=\u001b[39;49m\u001b[43mlw\u001b[49m\u001b[43m,\u001b[49m\n\u001b[1;32m   2400\u001b[0m \u001b[43m        \u001b[49m\u001b[43mlabel\u001b[49m\u001b[38;5;241;43m=\u001b[39;49m\u001b[38;5;124;43m'\u001b[39;49m\u001b[38;5;124;43m_nolegend_\u001b[39;49m\u001b[38;5;124;43m'\u001b[39;49m\u001b[43m,\u001b[49m\n\u001b[1;32m   2401\u001b[0m \u001b[43m        \u001b[49m\u001b[43mhatch\u001b[49m\u001b[38;5;241;43m=\u001b[39;49m\u001b[43mhtch\u001b[49m\u001b[43m,\u001b[49m\n\u001b[1;32m   2402\u001b[0m \u001b[43m        \u001b[49m\u001b[43m)\u001b[49m\n\u001b[1;32m   2403\u001b[0m     r\u001b[38;5;241m.\u001b[39mupdate(kwargs)\n\u001b[1;32m   2404\u001b[0m     r\u001b[38;5;241m.\u001b[39mget_path()\u001b[38;5;241m.\u001b[39m_interpolation_steps \u001b[38;5;241m=\u001b[39m \u001b[38;5;241m100\u001b[39m\n",
      "File \u001b[0;32m/usr/local/lib/python3.9/site-packages/matplotlib/patches.py:727\u001b[0m, in \u001b[0;36mRectangle.__init__\u001b[0;34m(self, xy, width, height, angle, **kwargs)\u001b[0m\n\u001b[1;32m    708\u001b[0m \u001b[38;5;129m@docstring\u001b[39m\u001b[38;5;241m.\u001b[39mdedent_interpd\n\u001b[1;32m    709\u001b[0m \u001b[38;5;28;01mdef\u001b[39;00m \u001b[38;5;21m__init__\u001b[39m(\u001b[38;5;28mself\u001b[39m, xy, width, height, angle\u001b[38;5;241m=\u001b[39m\u001b[38;5;241m0.0\u001b[39m, \u001b[38;5;241m*\u001b[39m\u001b[38;5;241m*\u001b[39mkwargs):\n\u001b[1;32m    710\u001b[0m     \u001b[38;5;124;03m\"\"\"\u001b[39;00m\n\u001b[1;32m    711\u001b[0m \u001b[38;5;124;03m    Parameters\u001b[39;00m\n\u001b[1;32m    712\u001b[0m \u001b[38;5;124;03m    ----------\u001b[39;00m\n\u001b[0;32m   (...)\u001b[0m\n\u001b[1;32m    725\u001b[0m \u001b[38;5;124;03m        %(Patch:kwdoc)s\u001b[39;00m\n\u001b[1;32m    726\u001b[0m \u001b[38;5;124;03m    \"\"\"\u001b[39;00m\n\u001b[0;32m--> 727\u001b[0m     \u001b[38;5;28;43msuper\u001b[39;49m\u001b[43m(\u001b[49m\u001b[43m)\u001b[49m\u001b[38;5;241;43m.\u001b[39;49m\u001b[38;5;21;43m__init__\u001b[39;49m\u001b[43m(\u001b[49m\u001b[38;5;241;43m*\u001b[39;49m\u001b[38;5;241;43m*\u001b[39;49m\u001b[43mkwargs\u001b[49m\u001b[43m)\u001b[49m\n\u001b[1;32m    728\u001b[0m     \u001b[38;5;28mself\u001b[39m\u001b[38;5;241m.\u001b[39m_x0 \u001b[38;5;241m=\u001b[39m xy[\u001b[38;5;241m0\u001b[39m]\n\u001b[1;32m    729\u001b[0m     \u001b[38;5;28mself\u001b[39m\u001b[38;5;241m.\u001b[39m_y0 \u001b[38;5;241m=\u001b[39m xy[\u001b[38;5;241m1\u001b[39m]\n",
      "File \u001b[0;32m/usr/local/lib/python3.9/site-packages/matplotlib/patches.py:106\u001b[0m, in \u001b[0;36mPatch.__init__\u001b[0;34m(self, edgecolor, facecolor, color, linewidth, linestyle, antialiased, hatch, fill, capstyle, joinstyle, **kwargs)\u001b[0m\n\u001b[1;32m    104\u001b[0m \u001b[38;5;28mself\u001b[39m\u001b[38;5;241m.\u001b[39mset_fill(fill)\n\u001b[1;32m    105\u001b[0m \u001b[38;5;28mself\u001b[39m\u001b[38;5;241m.\u001b[39mset_linestyle(linestyle)\n\u001b[0;32m--> 106\u001b[0m \u001b[38;5;28;43mself\u001b[39;49m\u001b[38;5;241;43m.\u001b[39;49m\u001b[43mset_linewidth\u001b[49m\u001b[43m(\u001b[49m\u001b[43mlinewidth\u001b[49m\u001b[43m)\u001b[49m\n\u001b[1;32m    107\u001b[0m \u001b[38;5;28mself\u001b[39m\u001b[38;5;241m.\u001b[39mset_antialiased(antialiased)\n\u001b[1;32m    108\u001b[0m \u001b[38;5;28mself\u001b[39m\u001b[38;5;241m.\u001b[39mset_hatch(hatch)\n",
      "File \u001b[0;32m/usr/local/lib/python3.9/site-packages/matplotlib/patches.py:411\u001b[0m, in \u001b[0;36mPatch.set_linewidth\u001b[0;34m(self, w)\u001b[0m\n\u001b[1;32m    408\u001b[0m     \u001b[38;5;28;01mif\u001b[39;00m w \u001b[38;5;129;01mis\u001b[39;00m \u001b[38;5;28;01mNone\u001b[39;00m:\n\u001b[1;32m    409\u001b[0m         w \u001b[38;5;241m=\u001b[39m mpl\u001b[38;5;241m.\u001b[39mrcParams[\u001b[38;5;124m'\u001b[39m\u001b[38;5;124maxes.linewidth\u001b[39m\u001b[38;5;124m'\u001b[39m]\n\u001b[0;32m--> 411\u001b[0m \u001b[38;5;28mself\u001b[39m\u001b[38;5;241m.\u001b[39m_linewidth \u001b[38;5;241m=\u001b[39m \u001b[38;5;28;43mfloat\u001b[39;49m\u001b[43m(\u001b[49m\u001b[43mw\u001b[49m\u001b[43m)\u001b[49m\n\u001b[1;32m    412\u001b[0m \u001b[38;5;66;03m# scale the dash pattern by the linewidth\u001b[39;00m\n\u001b[1;32m    413\u001b[0m offset, ls \u001b[38;5;241m=\u001b[39m \u001b[38;5;28mself\u001b[39m\u001b[38;5;241m.\u001b[39m_us_dashes\n",
      "\u001b[0;31mTypeError\u001b[0m: only size-1 arrays can be converted to Python scalars"
     ]
    },
    {
     "data": {
      "image/png": "[encoded data removed]",
      "text/plain": [
       "<Figure size 1080x360 with 1 Axes>"
      ]
     },
     "metadata": {
      "needs_background": "light"
     },
     "output_type": "display_data"
    }
   ],
   "source": [
    "#plot purchase by year bar chart\n",
    "fig,ax=plt.subplots(figsize=(15,5))\n",
    "ax.bar(year_df.index, year_df.values, color='steelblue')\n",
    "ax.set_title('Purchase by each year')\n",
    "\n",
    "#x-axis\n",
    "ax.set_xlabel('Year')\n",
    "plt.xticks([x for x in year_df.index],rotation=0)\n",
    "\n",
    "#Y axis\n",
    "ax.set_ylabel('$ Amount')\n",
    "ax.yaxis.set_major_formatter(\n",
    "        ticker.FuncFormatter(lambda y,p: '$'+format(int(y),','))\n",
    ")\n",
    "\n",
    "#Labels\n",
    "for i, j in zip(year_df.index, year_df.values):\n",
    "    ax.annotate(format(int(j),','),xy=(i,j), va='bottom',ha='centre')\n",
    "plt.show()"
   ]
  },
  {
   "cell_type": "code",
   "execution_count": null,
   "id": "b06b603c",
   "metadata": {},
   "outputs": [],
   "source": []
  }
 ],
 "metadata": {
  "kernelspec": {
   "display_name": "Python 3 (ipykernel)",
   "language": "python",
   "name": "python3"
  },
  "language_info": {
   "codemirror_mode": {
    "name": "ipython",
    "version": 3
   },
   "file_extension": ".py",
   "mimetype": "text/x-python",
   "name": "python",
   "nbconvert_exporter": "python",
   "pygments_lexer": "ipython3",
   "version": "3.9.10"
  }
 },
 "nbformat": 4,
 "nbformat_minor": 5
}
